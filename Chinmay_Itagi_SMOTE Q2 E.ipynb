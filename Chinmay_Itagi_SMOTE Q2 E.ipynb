{
 "cells": [
  {
   "cell_type": "markdown",
   "metadata": {},
   "source": [
    "##### Q2 E Use SMOTE (Synthetic Minority Over-sampling Technique) to pre-process your data to compensate for class imbalance. Train a Logistic Model Tree using the pre-processed data and repeat 2e. Do not forget that there is a right and a wrong way of cross validation here. Compare the uncompensated case with SMOTE."
   ]
  },
  {
   "cell_type": "code",
   "execution_count": 3,
   "metadata": {},
   "outputs": [],
   "source": [
    "from imblearn.over_sampling import SMOTE\n",
    "from sklearn.linear_model import RidgeCV\n",
    "import numpy as np\n",
    "import pandas as pd\n",
    "from sklearn.preprocessing import Imputer\n",
    "import matplotlib.pyplot as plt\n",
    "import seaborn as sns\n",
    "from scipy.stats import variation\n",
    "import math\n",
    "from sklearn.preprocessing import scale\n",
    "from sklearn import linear_model\n",
    "from sklearn.metrics import mean_squared_error\n",
    "from sklearn.decomposition import PCA\n",
    "from sklearn.model_selection import KFold\n",
    "from sklearn.linear_model import LassoCV\n",
    "from xgboost import XGBRegressor\n",
    "import seaborn as sns"
   ]
  },
  {
   "cell_type": "code",
   "execution_count": 8,
   "metadata": {},
   "outputs": [],
   "source": [
    "df_train_smote = pd.read_csv('df_train_mean.csv')\n",
    "\n",
    "\n",
    "smote = SMOTE(random_state=0,sampling_strategy=0.5)\n",
    "a = smote.fit_sample(df_train_smote[df_train_smote.columns[df_train_smote.columns!='class']], df_train_smote['class'])\n",
    "X = pd.DataFrame(a[0])\n",
    "Y = pd.DataFrame(a[1],columns=['class'])\n",
    "df_train_smote = pd.concat([X,Y],axis=1)"
   ]
  },
  {
   "cell_type": "code",
   "execution_count": 9,
   "metadata": {},
   "outputs": [
    {
     "data": {
      "text/plain": [
       "(88500, 171)"
      ]
     },
     "execution_count": 9,
     "metadata": {},
     "output_type": "execute_result"
    }
   ],
   "source": [
    "df_train_smote.shape\n",
    "\n"
   ]
  },
  {
   "cell_type": "code",
   "execution_count": 10,
   "metadata": {},
   "outputs": [
    {
     "name": "stdout",
     "output_type": "stream",
     "text": [
      "neg    59000\n",
      "pos    29500\n",
      "Name: class, dtype: int64\n"
     ]
    }
   ],
   "source": [
    "print(df_train_smote['class'].value_counts())"
   ]
  },
  {
   "cell_type": "code",
   "execution_count": 11,
   "metadata": {},
   "outputs": [
    {
     "name": "stderr",
     "output_type": "stream",
     "text": [
      "DEBUG:weka.core.jvm:Adding bundled jars\n",
      "DEBUG:weka.core.jvm:Classpath=['C:\\\\Users\\\\Chinmay Itagi\\\\Anaconda3\\\\lib\\\\site-packages\\\\javabridge\\\\jars\\\\rhino-1.7R4.jar', 'C:\\\\Users\\\\Chinmay Itagi\\\\Anaconda3\\\\lib\\\\site-packages\\\\javabridge\\\\jars\\\\runnablequeue.jar', 'C:\\\\Users\\\\Chinmay Itagi\\\\Anaconda3\\\\lib\\\\site-packages\\\\javabridge\\\\jars\\\\cpython.jar', 'C:\\\\Users\\\\Chinmay Itagi\\\\Anaconda3\\\\lib\\\\site-packages\\\\weka\\\\lib\\\\python-weka-wrapper.jar', 'C:\\\\Users\\\\Chinmay Itagi\\\\Anaconda3\\\\lib\\\\site-packages\\\\weka\\\\lib\\\\weka.jar']\n",
      "DEBUG:weka.core.jvm:MaxHeapSize=default\n",
      "DEBUG:weka.core.jvm:Package support disabled\n",
      "DEBUG:javabridge.jutil:Creating JVM object\n",
      "DEBUG:javabridge.jutil:Signalling caller\n"
     ]
    }
   ],
   "source": [
    "from weka.classifiers import Classifier\n",
    "from weka.classifiers import Evaluation\n",
    "import weka.core.jvm as jvm\n",
    "from weka.classifiers import Classifier\n",
    "\n",
    "jvm.start()\n",
    "\n",
    "import weka.core.converters as converters"
   ]
  },
  {
   "cell_type": "code",
   "execution_count": 14,
   "metadata": {},
   "outputs": [],
   "source": [
    "\n",
    "\n",
    "df_train_smote.to_csv('df_train_smote.csv',index=False)\n",
    "df_train = converters.load_any_file(filename='df_train_smote.csv')\n",
    "df_train.class_is_last()\n",
    "\n",
    "\n"
   ]
  },
  {
   "cell_type": "code",
   "execution_count": 16,
   "metadata": {},
   "outputs": [],
   "source": [
    "from weka.core.classes import Random\n",
    "lmt = Classifier(classname=\"weka.classifiers.trees.LMT\")\n",
    "train_eval = Evaluation(df_train)\n",
    "train_eval.crossvalidate_model(classifier=lmt,data=df_train,num_folds=5,rnd=Random(0))"
   ]
  },
  {
   "cell_type": "code",
   "execution_count": 17,
   "metadata": {},
   "outputs": [
    {
     "name": "stdout",
     "output_type": "stream",
     "text": [
      "CV Error = 1.50%\n",
      "=== Confusion Matrix ===\n",
      "\n",
      "     a     b   <-- classified as\n",
      " 58308   692 |     a = neg\n",
      "   632 28868 |     b = pos\n",
      "\n"
     ]
    }
   ],
   "source": [
    "print(\"CV Error = %.2f%%\" % (train_eval.percent_incorrect))\n",
    "print(train_eval.matrix())"
   ]
  },
  {
   "cell_type": "code",
   "execution_count": 18,
   "metadata": {},
   "outputs": [],
   "source": [
    "cls1 = Classifier.make_copy(lmt)\n",
    "cls1.build_classifier(df_train)"
   ]
  },
  {
   "cell_type": "code",
   "execution_count": 20,
   "metadata": {},
   "outputs": [
    {
     "name": "stderr",
     "output_type": "stream",
     "text": [
      "DEBUG:matplotlib.font_manager:findfont: Matching :family=sans-serif:style=normal:variant=normal:weight=normal:stretch=normal:size=10.0 to DejaVu Sans ('C:\\\\Users\\\\Chinmay Itagi\\\\Anaconda3\\\\lib\\\\site-packages\\\\matplotlib\\\\mpl-data\\\\fonts\\\\ttf\\\\DejaVuSans.ttf') with score of 0.050000\n",
      "DEBUG:matplotlib.font_manager:findfont: Matching :family=sans-serif:style=normal:variant=normal:weight=normal:stretch=normal:size=12.0 to DejaVu Sans ('C:\\\\Users\\\\Chinmay Itagi\\\\Anaconda3\\\\lib\\\\site-packages\\\\matplotlib\\\\mpl-data\\\\fonts\\\\ttf\\\\DejaVuSans.ttf') with score of 0.050000\n"
     ]
    },
    {
     "data": {
      "image/png": "[encoded data removed]",
      "text/plain": [
       "<Figure size 432x288 with 1 Axes>"
      ]
     },
     "metadata": {},
     "output_type": "display_data"
    }
   ],
   "source": [
    "from sklearn.metrics import roc_curve, auc\n",
    "pred = train_eval.test_model(cls1,df_train)\n",
    "actual = np.array(np.where(df_train_smote['class']=='neg',0,1))\n",
    "fpr, tpr, _ = roc_curve(actual,pred)\n",
    "plt.figure()\n",
    "lw = 2\n",
    "plt.plot(fpr, tpr, color='darkorange',lw=lw, label='ROC(area = %0.2f)' % auc(fpr, tpr))\n",
    "plt.plot([0, 1], [0, 1], color='navy', lw=lw, linestyle='--')\n",
    "plt.xlim([0.0, 1.5])\n",
    "plt.ylim([0.0, 1.55])\n",
    "plt.xlabel('False Positive')\n",
    "plt.ylabel('True Positive')\n",
    "plt.title('ROC Curve')\n",
    "plt.legend(loc=\"lower right\")\n",
    "plt.show()"
   ]
  },
  {
   "cell_type": "code",
   "execution_count": 35,
   "metadata": {},
   "outputs": [],
   "source": [
    "df_test = converters.load_any_file(filename='df_test_mean_last.csv')\n",
    "df_test.class_is_last()"
   ]
  },
  {
   "cell_type": "code",
   "execution_count": 36,
   "metadata": {},
   "outputs": [
    {
     "data": {
      "text/plain": [
       "array([0., 0., 0., ..., 0., 0., 0.])"
      ]
     },
     "execution_count": 36,
     "metadata": {},
     "output_type": "execute_result"
    }
   ],
   "source": [
    "#lmt1.build_classifier(df_train)\n",
    "test_eval1 = Evaluation(df_test)\n",
    "test_eval1.test_model(cls1, df_test)"
   ]
  },
  {
   "cell_type": "code",
   "execution_count": null,
   "metadata": {},
   "outputs": [],
   "source": []
  },
  {
   "cell_type": "code",
   "execution_count": 37,
   "metadata": {},
   "outputs": [
    {
     "name": "stdout",
     "output_type": "stream",
     "text": [
      "Test Error = 4.71%\n",
      "=== Confusion Matrix ===\n",
      "\n",
      "     a     b   <-- classified as\n",
      " 14943   682 |     a = neg\n",
      "    72   303 |     b = pos\n",
      "\n"
     ]
    }
   ],
   "source": [
    "print(\"Test Error = %.2f%%\" % (test_eval1.percent_incorrect))\n",
    "print(test_eval1.matrix())"
   ]
  },
  {
   "cell_type": "code",
   "execution_count": 41,
   "metadata": {},
   "outputs": [
    {
     "data": {
      "image/png": "[encoded data removed]",
      "text/plain": [
       "<Figure size 432x288 with 1 Axes>"
      ]
     },
     "metadata": {},
     "output_type": "display_data"
    }
   ],
   "source": [
    "df_test_ = pd.read_csv('df_test_mean_last.csv') \n",
    "pred = test_eval1.test_model(cls1,df_test)\n",
    "actual = np.array(np.where(df_test_['class']=='neg',0,1))\n",
    "fpr, tpr, _ = roc_curve(actual,pred)\n",
    "plt.figure()\n",
    "lw = 2\n",
    "plt.plot(fpr, tpr, color='darkorange',lw=lw, label='ROC curve (area = %0.2f)' % auc(fpr, tpr))\n",
    "plt.plot([0, 1], [0, 1], color='navy', lw=lw, linestyle='--')\n",
    "plt.xlim([0.0, 1.0])\n",
    "plt.ylim([0.0, 1.05])\n",
    "plt.xlabel('False Positive Rate')\n",
    "plt.ylabel('True Positive Rate')\n",
    "plt.title('ROC Curve')\n",
    "plt.legend(loc=\"lower right\")\n",
    "plt.show()"
   ]
  },
  {
   "cell_type": "code",
   "execution_count": null,
   "metadata": {},
   "outputs": [],
   "source": []
  }
 ],
 "metadata": {
  "kernelspec": {
   "display_name": "Python 3",
   "language": "python",
   "name": "python3"
  }
 },
 "nbformat": 4,
 "nbformat_minor": 2
}
